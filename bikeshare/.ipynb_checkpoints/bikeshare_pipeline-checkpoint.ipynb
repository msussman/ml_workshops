{
 "cells": [
  {
   "cell_type": "markdown",
   "metadata": {},
   "source": [
    "# Data Pipeline\n",
    "\n",
    "Outline of steps to take for bikeshare machine learning pipeline"
   ]
  },
  {
   "cell_type": "markdown",
   "metadata": {},
   "source": [
    "## Step 1: y Selection\n",
    "Select y either daily DC to DC total trips or casual trips "
   ]
  },
  {
   "cell_type": "markdown",
   "metadata": {},
   "source": [
    "## Step 2: Feature Engineering\n",
    "\n",
    "1. Define Features (final_db => Xraw): final_db minus any obviously trip related features  \n",
    "2. Times Series Split (Xraw => Xtrain, Xtest): Split data using time series split, also for y \n",
    "2. Add Polynominal Features (Xtrain, Xtest => Xtrainpol, Xtestpol): Use only squared, not cubed etc because we have a lot of features\n",
    "3. Split out binary from non-binary features (Xtrainpol, Xtestpol => Xtrainbin, Xtestbin, Xtraincon, Xtestcon): List comprehensions\n",
    "4. Scale only non-binary features (Xtraincon, Xtestcon => Xtrainscl, Xtestscl): Use the standard scalar using the defaults\n",
    "5. Concatenate binary and standarized non-binary features (Xtrainbin, Xtestbin, Xtrainscl, Xtestscl => Xptrain, Xptest)\n"
   ]
  },
  {
   "cell_type": "markdown",
   "metadata": {},
   "source": [
    "## Step 3: Feature Selection\n",
    "Using Xptrain, Xptest dataframe, leverage RandomizedLasso with normalized=False, intercept=False\n",
    "*Note: Other methods could potentially be used for feature selection such as stepwise regression"
   ]
  },
  {
   "cell_type": "markdown",
   "metadata": {},
   "source": [
    "## Step 4: Model Fit\n"
   ]
  },
  {
   "cell_type": "markdown",
   "metadata": {},
   "source": [
    "Step 5: Model Te"
   ]
  }
 ],
 "metadata": {
  "kernelspec": {
   "display_name": "Python 3",
   "language": "python",
   "name": "python3"
  },
  "language_info": {
   "codemirror_mode": {
    "name": "ipython",
    "version": 3
   },
   "file_extension": ".py",
   "mimetype": "text/x-python",
   "name": "python",
   "nbconvert_exporter": "python",
   "pygments_lexer": "ipython3",
   "version": "3.6.3"
  }
 },
 "nbformat": 4,
 "nbformat_minor": 2
}
